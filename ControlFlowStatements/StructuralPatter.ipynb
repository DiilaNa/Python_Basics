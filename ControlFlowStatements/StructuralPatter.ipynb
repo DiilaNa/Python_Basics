{
 "cells": [
  {
   "cell_type": "code",
   "execution_count": 1,
   "id": "699e8771",
   "metadata": {},
   "outputs": [
    {
     "name": "stdout",
     "output_type": "stream",
     "text": [
      "Number is Two\n"
     ]
    }
   ],
   "source": [
    "x = 2\n",
    "\n",
    "match x:\n",
    "    case 1:\n",
    "        print(\"Number is One\")\n",
    "    case 2:\n",
    "        print(\"Number is Two\")\n",
    "    case 3:\n",
    "        print(\"Number is Three\")\n",
    "    case _:\n",
    "        print(\"Number is Something else\")    "
   ]
  },
  {
   "cell_type": "code",
   "execution_count": null,
   "id": "bc30b9d3",
   "metadata": {},
   "outputs": [
    {
     "name": "stdout",
     "output_type": "stream",
     "text": [
      "Monday is a Week Day\n"
     ]
    }
   ],
   "source": [
    "#----------------------Take the Day and Write it's whether a Week day or Weekemd day\n",
    "day = input(\"Enter The day\")\n",
    "\n",
    "match day:\n",
    "    case \"Sunday\" |  \"Saturday\":\n",
    "        print(f\"{day} is a WeekEnd Day\")\n",
    "    case \"Monday\" |  \"Tuesday\" | \"Wednesday\" |\"Thursday\" | \"Friday\":\n",
    "        print(f\"{day} is a Week Day\")  \n",
    "    case _:\n",
    "        print(f\"{day} is a NOT A Day\")        "
   ]
  },
  {
   "cell_type": "code",
   "execution_count": 11,
   "id": "d2b8f100",
   "metadata": {},
   "outputs": [
    {
     "name": "stdout",
     "output_type": "stream",
     "text": [
      "3\n"
     ]
    }
   ],
   "source": [
    "numbers = [0,1,2]\n",
    "\n",
    "match numbers:\n",
    "    case [x,y]:\n",
    "        print(x*y)\n",
    "    case[x,y,z]:\n",
    "        print(x+y+z)\n",
    "    case _:\n",
    "        print(\"more than three numbers\")    "
   ]
  },
  {
   "cell_type": "code",
   "execution_count": 16,
   "id": "8143c167",
   "metadata": {},
   "outputs": [
    {
     "name": "stdout",
     "output_type": "stream",
     "text": [
      "area of the triangle is 6.0\n"
     ]
    }
   ],
   "source": [
    "numbers = [3,4,5]\n",
    "\n",
    "match numbers:\n",
    "    case [x,y]:\n",
    "        hypotenuse = (x**2 + y**2) ** 0.5\n",
    "        print(f\"hypotenuse of the triangle is {hypotenuse}\")\n",
    "    case[x,y,z]:\n",
    "        s = (x + y + z) / 2  # arda parimithiya\n",
    "        area = (s*(s-x)*(s-y)*(s-z))**0.5\n",
    "        print(f\"area of the triangle is {area}\")\n",
    "    case _:\n",
    "        print(\"unsupported numer of inputs\")    "
   ]
  }
 ],
 "metadata": {
  "kernelspec": {
   "display_name": "Python 3",
   "language": "python",
   "name": "python3"
  },
  "language_info": {
   "codemirror_mode": {
    "name": "ipython",
    "version": 3
   },
   "file_extension": ".py",
   "mimetype": "text/x-python",
   "name": "python",
   "nbconvert_exporter": "python",
   "pygments_lexer": "ipython3",
   "version": "3.13.7"
  }
 },
 "nbformat": 4,
 "nbformat_minor": 5
}
