{
 "cells": [
  {
   "cell_type": "code",
   "execution_count": 9,
   "id": "20cb7a64",
   "metadata": {},
   "outputs": [
    {
     "name": "stdout",
     "output_type": "stream",
     "text": [
      "10 is an odd number\n",
      "10 is an even number jo\n"
     ]
    }
   ],
   "source": [
    "#------------------------IF Condition------------------------\n",
    "n = 10\n",
    "\n",
    "if n % 2 == 1:\n",
    "    print(f\"{n} is an even number\")    \n",
    "else:\n",
    "    print(f\"{n} is an odd number\")\n",
    "print(f\"{n} is an even number jo\") # This line is not part of the if condition"
   ]
  },
  {
   "cell_type": "code",
   "execution_count": null,
   "id": "50201396",
   "metadata": {},
   "outputs": [
    {
     "name": "stdout",
     "output_type": "stream",
     "text": [
      "62.800000000000004 is the circumference of the circle\n"
     ]
    }
   ],
   "source": [
    "#---------------------------- Q01 - Find the circumference of the circle(2PIEr) -------------------\n",
    "radius = 10 \n",
    "PI_VALUE = 3.14\n",
    "\n",
    "if radius > 0:\n",
    "    circumference = 2 * PI_VALUE * radius\n",
    "    print(f\"{circumference} is the circumference of the circle\")\n",
    "else:\n",
    "    print(\"Radius cannot be negative\")\n",
    "\n"
   ]
  },
  {
   "cell_type": "code",
   "execution_count": null,
   "id": "7a6058bc",
   "metadata": {},
   "outputs": [],
   "source": [
    "#----------------------- Q02 - Pythagorean Theorem a^2 + b^2 = c^2 -------------------\n",
    "vertical_height = 2\n",
    "horizontal_base = 3\n",
    "\n",
    "if vertical_height > 0 and horizontal_base > 0:\n",
    "    hypotenuse = (vertical_height ** 2 + horizontal_base ** 2) ** 0.5\n",
    "    print(f\"{hypotenuse} is the length of the hypotenuse\")\n",
    "else:\n",
    "    print(\"Height and Base must be positive numbers\")\n",
    "\n"
   ]
  }
 ],
 "metadata": {
  "kernelspec": {
   "display_name": "Python 3",
   "language": "python",
   "name": "python3"
  },
  "language_info": {
   "codemirror_mode": {
    "name": "ipython",
    "version": 3
   },
   "file_extension": ".py",
   "mimetype": "text/x-python",
   "name": "python",
   "nbconvert_exporter": "python",
   "pygments_lexer": "ipython3",
   "version": "3.13.7"
  }
 },
 "nbformat": 4,
 "nbformat_minor": 5
}
