{
 "cells": [
  {
   "cell_type": "code",
   "execution_count": 1,
   "id": "dd5c214f",
   "metadata": {},
   "outputs": [
    {
     "name": "stdout",
     "output_type": "stream",
     "text": [
      "20 is a Even number \n"
     ]
    }
   ],
   "source": [
    "#--------------------------Ternary Operator-----------------------------\n",
    "x = 20\n",
    "\n",
    "result = \"Even\" if x % 2 == 0 else \"Odd\"\n",
    "print(f\"{x} is a {result} number \")"
   ]
  },
  {
   "cell_type": "code",
   "execution_count": 4,
   "id": "2ad787b6",
   "metadata": {},
   "outputs": [
    {
     "name": "stdout",
     "output_type": "stream",
     "text": [
      "8.0\n"
     ]
    }
   ],
   "source": [
    "#-----------------------Finding the Absolute Value-------------------------------\n",
    "x = float(input(\"Enter the number :\"))\n",
    "\n",
    "result =  x if x >= 0 else  x * -1\n",
    "print(result) "
   ]
  }
 ],
 "metadata": {
  "kernelspec": {
   "display_name": "Python 3",
   "language": "python",
   "name": "python3"
  },
  "language_info": {
   "codemirror_mode": {
    "name": "ipython",
    "version": 3
   },
   "file_extension": ".py",
   "mimetype": "text/x-python",
   "name": "python",
   "nbconvert_exporter": "python",
   "pygments_lexer": "ipython3",
   "version": "3.13.7"
  }
 },
 "nbformat": 4,
 "nbformat_minor": 5
}
