{
 "cells": [
  {
   "cell_type": "code",
   "execution_count": 1,
   "id": "80a8c49c",
   "metadata": {},
   "outputs": [
    {
     "name": "stdout",
     "output_type": "stream",
     "text": [
      "a is a positive number\n"
     ]
    }
   ],
   "source": [
    "a = 10\n",
    "\n",
    "if a > 0 :\n",
    "    print(\"a is a positive number\")\n",
    "elif a < 0:\n",
    "    print(\"a is a Negative number\")\n",
    "else:\n",
    "   print(\"a is zero\")\n",
    "\n"
   ]
  },
  {
   "cell_type": "code",
   "execution_count": 7,
   "id": "62c4f0bc",
   "metadata": {},
   "outputs": [
    {
     "name": "stdout",
     "output_type": "stream",
     "text": [
      "10.0 is the largest number\n"
     ]
    }
   ],
   "source": [
    "#--------------------------Find the largest number------------------------------\n",
    "# As pythons default data type is string need to cast in to float\n",
    "num_1 = float(input(\"Enter First Number...\"))\n",
    "num_2 = float(input(\"Enter Second Number...\"))\n",
    "num_3 = float(input(\"Enter Third Number...\"))\n",
    "\n",
    "if (num_1 >= num_2) and (num_1 >= num_3) :\n",
    "    large = num_1\n",
    "elif (num_2 >= num_3) and (num_2 >= num_3):\n",
    "    large = num_2\n",
    "else:\n",
    "    large = num_3\n",
    "print(f\"{large} is the largest number\") \n",
    "\n"
   ]
  },
  {
   "cell_type": "code",
   "execution_count": null,
   "id": "c618cc32",
   "metadata": {},
   "outputs": [
    {
     "name": "stdout",
     "output_type": "stream",
     "text": [
      "10.0 9.0 3.0\n"
     ]
    }
   ],
   "source": [
    "#-----------------------Write the largest numer in descending order---------------------------------------\n",
    "num_1 = float(input(\"Enter First Number...\"))\n",
    "num_2 = float(input(\"Enter Second Number...\"))\n",
    "num_3 = float(input(\"Enter Third Number...\"))\n",
    "\n",
    "if num_1 >= num_2 and num_1 > num_3:\n",
    "    if num_2 > num_3:\n",
    "        print(num_1,num_2,num_3)\n",
    "    else:\n",
    "        print(num_1,num_3,num_2) \n",
    "\n",
    "elif num_2 >= num_1 and num_2 >= num_3:\n",
    "    if num_1 >= num_3:\n",
    "        print(num_2,num_1,num_3)\n",
    "    else:\n",
    "        print(num_2,num_3,num_1)\n",
    "else:\n",
    "    if num_2 >= num_1:\n",
    "        print(num_3,num_2,num_1)\n",
    "    else:\n",
    "        print(num_3,num_1,num_2)\n",
    "\n",
    "\n"
   ]
  }
 ],
 "metadata": {
  "kernelspec": {
   "display_name": "Python 3",
   "language": "python",
   "name": "python3"
  },
  "language_info": {
   "codemirror_mode": {
    "name": "ipython",
    "version": 3
   },
   "file_extension": ".py",
   "mimetype": "text/x-python",
   "name": "python",
   "nbconvert_exporter": "python",
   "pygments_lexer": "ipython3",
   "version": "3.13.7"
  }
 },
 "nbformat": 4,
 "nbformat_minor": 5
}
