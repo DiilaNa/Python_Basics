{
 "cells": [
  {
   "cell_type": "code",
   "execution_count": 1,
   "id": "46113999",
   "metadata": {},
   "outputs": [
    {
     "name": "stdout",
     "output_type": "stream",
     "text": [
      "Hello, World!\n"
     ]
    }
   ],
   "source": [
    "print(\"Hello, World!\")"
   ]
  },
  {
   "cell_type": "code",
   "execution_count": 2,
   "id": "22f2d6a4",
   "metadata": {},
   "outputs": [
    {
     "name": "stdout",
     "output_type": "stream",
     "text": [
      "3\n"
     ]
    }
   ],
   "source": [
    "a = 1\n",
    "b = 2\n",
    "c = a + b\n",
    "print(c)"
   ]
  },
  {
   "cell_type": "code",
   "execution_count": 4,
   "id": "62802c5a",
   "metadata": {},
   "outputs": [
    {
     "name": "stdout",
     "output_type": "stream",
     "text": [
      "3.0\n",
      "<class 'float'>\n"
     ]
    }
   ],
   "source": [
    "my_var = 3.0\n",
    "print(my_var)\n",
    "print(type(my_var)) # show the data type of the variable"
   ]
  },
  {
   "cell_type": "code",
   "execution_count": 7,
   "id": "aadcf465",
   "metadata": {},
   "outputs": [
    {
     "name": "stdout",
     "output_type": "stream",
     "text": [
      "Hello\n",
      "<class 'str'>\n",
      "3.14\n"
     ]
    }
   ],
   "source": [
    "# _my@var = \"Hello\" # invalid variable names @ symbol is not alphanumeric - compile errors\n",
    "# 3myvar = \"Hello\" # cannot start with a number - compile errors\n",
    "my_var = \"Hello\" \n",
    "my_var_2 = 'Hello' # valid variable name must start with a letter or underscore\n",
    "# can contain letters, numbers, and underscores only / no camel case only snake case\n",
    "# cannot contain spaces or special characters\n",
    "print(my_var)\n",
    "print(type(my_var))\n",
    "\n",
    "PI_VALUE = 3.14 # constant variable are written in  uppercase letters\n",
    "print(PI_VALUE)\n",
    "\n"
   ]
  },
  {
   "cell_type": "code",
   "execution_count": null,
   "id": "f990e2aa",
   "metadata": {},
   "outputs": [
    {
     "name": "stdout",
     "output_type": "stream",
     "text": [
      "Doe\n",
      "20.5\n",
      "John\n",
      "John\n",
      "Hello\n",
      "World\n"
     ]
    }
   ],
   "source": [
    "newvariable = \"John\"\n",
    "new_variable = \"John\" \n",
    "_new_variable = \"John\" \n",
    "newVariable = \"John\" # camel case is not a valid variable naming convention in Python\n",
    "NEW_VARIABLE = \"John\" # constant variables are usually written in uppercase letters\n",
    "newvariable2 = \"John\" # valid variable names can contain numbers but cannot start with a numberz\n",
    "# 2newvariable = \"Python\" # invalid variable names cannot start with a number - compile errors\n",
    "# new-variable = \"Python\" # invalid variable names cannot contain hyphens - compile errors\n",
    "# new variable = \"Python\" # invalid variable names cannot contain spaces - compile errors\n",
    "print(new_variable)\n",
    "print(newVariable)\n",
    "print(_new_variable)\n",
    "print(newvariable)\n",
    "print(NEW_VARIABLE)\n",
    "print(newvariable2)"
   ]
  },
  {
   "cell_type": "code",
   "execution_count": null,
   "id": "dcd1e884",
   "metadata": {},
   "outputs": [
    {
     "name": "stdout",
     "output_type": "stream",
     "text": [
      "(10+12j)\n",
      "<class 'complex'>\n",
      "4958000000.0\n",
      "<class 'float'>\n"
     ]
    }
   ],
   "source": [
    "#--------------------SCIENTIFIC NOTATION----------------------------------\n",
    "my_var = 10 + 12j\n",
    "my_num = 4.958e9  # scientific notation for 4.958 x 10^9\n",
    "print(my_var)\n",
    "print(type(my_var))\n",
    "print(my_num)\n",
    "print(type(my_num))"
   ]
  },
  {
   "cell_type": "code",
   "execution_count": null,
   "id": "5305359d",
   "metadata": {},
   "outputs": [
    {
     "name": "stdout",
     "output_type": "stream",
     "text": [
      "10.0\n",
      "<class 'float'>\n",
      "9\n",
      "<class 'int'>\n"
     ]
    }
   ],
   "source": [
    "#--------------------TYPE CASTING----------------------------------\n",
    "\n",
    "a = 10     # int\n",
    "b = float(a) # convert to float / type casting\n",
    "print(b)\n",
    "print(type(b))\n",
    "\n",
    "x = 9.8    # float\n",
    "y = int(x)   # convert to int / type casting    \n",
    "print(y)\n",
    "print(type(y))\n"
   ]
  },
  {
   "cell_type": "code",
   "execution_count": null,
   "id": "18f9f864",
   "metadata": {},
   "outputs": [
    {
     "name": "stdout",
     "output_type": "stream",
     "text": [
      "[2, 2, 3, 4, 5, 'dog', True]\n",
      "<class 'list'>\n",
      "[2, 2, 10, 4, 5, 'dog', True]\n",
      "2485046052672\n",
      "[3, 4, 5, 6]\n",
      "[1, 2, 3, 4]\n",
      "[6, 7, 8, 9, 10]\n",
      "[1, 3, 5, 7, 9]\n",
      "10\n"
     ]
    }
   ],
   "source": [
    "#--------------------LISTS----------------------------------\n",
    "my_list = [2, 2, 3, 4, 5,\"dog\",True] # list can contain different data types , duplicates allowed\n",
    "print(my_list)\n",
    "print(type(my_list))\n",
    "\n",
    "my_list[2] = 10 # modify the third element of the list\n",
    "print(my_list)\n",
    "print(id(my_list)) # print the memory address of the list\n",
    "\n",
    "my_list =  [1,2,3,4,5,6,7,8,9,10]\n",
    "print(my_list[2:6]) # slicing the list from index 2 to index 5\n",
    "print(my_list[:4]) # slicing the list from the beginning to index 3\n",
    "print(my_list[5:]) # slicing the list from index 5 to the end\n",
    "print(my_list[::2]) # slicing the list with a step of 2\n",
    "print(my_list[-1]) # Negative indexing - last element\n",
    "\n"
   ]
  },
  {
   "cell_type": "code",
   "execution_count": 72,
   "id": "68c299e3",
   "metadata": {},
   "outputs": [
    {
     "name": "stdout",
     "output_type": "stream",
     "text": [
      "[10, 8, 9, 15, 20, 18, 26]\n",
      "[10, 8, 90, 60, 80, 18, 26]\n",
      "[10, 8, 68, 90, 60, 80, 18, 26]\n",
      "[10, 8, 68, 90, 60, 80, 18, 26, 100]\n"
     ]
    }
   ],
   "source": [
    "my_lists = [10,8,9,15,20,18,26]\n",
    "print(my_lists)\n",
    "my_lists[2:5] = [90,60,80] # modify elements from index 2 to index 3\n",
    "print(my_lists)\n",
    "\n",
    "\n",
    "#-------------------INSERT----------------------------------\n",
    "my_lists.insert(2, 68) # insert 68 at index 2\n",
    "print(my_lists)\n",
    "\n",
    "#-------------------APPEND----------------------------------\n",
    "my_lists.append(100) # append 100 at the end of the list\n",
    "print(my_lists)\n"
   ]
  },
  {
   "cell_type": "code",
   "execution_count": null,
   "id": "3357d2c1",
   "metadata": {},
   "outputs": [
    {
     "name": "stdout",
     "output_type": "stream",
     "text": [
      "['cat', 'rabbit', 'fish', 'bird', 'dog']\n",
      "['cat', 'dog', 'fish', 'bird', 'dog']\n",
      "rabbit\n",
      "['cat', 'rabbit', 'fish', 'bird', 'dog']\n",
      "['Parrot', 'dog', 'rabbit', 'fish', 'bird', 'dog']\n",
      "0\n",
      "['bird', 'dog', 'dog', 'fish', 'parrot', 'rabbit']\n"
     ]
    }
   ],
   "source": [
    "\n",
    "#-------------------REMOVE----------------------------------\n",
    "my_list = [\"cat\", \"dog\", \"rabbit\", \"fish\", \"bird\", \"dog\"] #remove the value by name not by index\n",
    "my_list.remove(\"dog\") # remove the first occurrence of \"dog\"\n",
    "print(my_list)\n",
    "\n",
    "#-------------------POP----------------------------------\n",
    "my_list = [\"cat\", \"dog\", \"rabbit\", \"fish\", \"bird\", \"dog\"]\n",
    "my_var =  my_list.pop(2) # remove the element at index 2\n",
    "print(my_list)\n",
    "print(my_var) # print the removed element\n",
    "\n",
    "#-------------------DEL----------------------------------\n",
    "my_list = [\"cat\", \"dog\", \"rabbit\", \"fish\", \"bird\", \"dog\"]\n",
    "del my_list[1] # delete the element at index 1\n",
    "# del my_list # delete the entire list\n",
    "print(my_list)\n",
    "\n",
    "#-------------------CLEAR----------------------------------\n",
    "my_list = [\"Parrot\", \"dog\", \"rabbit\", \"fish\", \"bird\", \"dog\"]\n",
    "print(my_list)\n",
    "my_list.clear() # clear the entire list\n",
    "print(len(my_list)) # print the length of the list\n",
    "\n"
   ]
  },
  {
   "cell_type": "code",
   "execution_count": 73,
   "id": "332a18e8",
   "metadata": {},
   "outputs": [
    {
     "name": "stdout",
     "output_type": "stream",
     "text": [
      "['bird', 'dog', 'dog', 'fish', 'parrot', 'rabbit']\n",
      "[5, 4, 3, 2, 1]\n",
      "[5, 4, 3, 2, 1]\n"
     ]
    }
   ],
   "source": [
    "#--------------------SORT----------------------------------\n",
    "my_list = [\"parrot\", \"dog\", \"rabbit\", \"fish\", \"bird\", \"dog\"]\n",
    "my_list.sort() # sort the list in ascending order\n",
    "print(my_list)\n",
    "\n",
    "#descending order\n",
    "my_list = [1, 2, 3, 4, 5] # list\n",
    "my_list.sort(reverse=True) # sort the list in descending order\n",
    "print(my_list)\n",
    "\n",
    "#--------------------REVERSE----------------------------------\n",
    "my_list = [1, 2, 3, 4, 5] # list\n",
    "my_list.reverse() # reverse the list\n",
    "print(my_list)"
   ]
  }
 ],
 "metadata": {
  "kernelspec": {
   "display_name": "Python 3",
   "language": "python",
   "name": "python3"
  },
  "language_info": {
   "codemirror_mode": {
    "name": "ipython",
    "version": 3
   },
   "file_extension": ".py",
   "mimetype": "text/x-python",
   "name": "python",
   "nbconvert_exporter": "python",
   "pygments_lexer": "ipython3",
   "version": "3.13.7"
  }
 },
 "nbformat": 4,
 "nbformat_minor": 5
}
