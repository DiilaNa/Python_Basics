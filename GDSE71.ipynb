{
 "cells": [
  {
   "cell_type": "code",
   "execution_count": null,
   "id": "46113999",
   "metadata": {},
   "outputs": [
    {
     "name": "stdout",
     "output_type": "stream",
     "text": [
      "Hello, World!\n",
      "3\n"
     ]
    }
   ],
   "source": [
    "print(\"Hello, World!\")"
   ]
  },
  {
   "cell_type": "code",
   "execution_count": null,
   "id": "ced56951",
   "metadata": {},
   "outputs": [],
   "source": [
    "a = 1\n",
    "b = 2\n",
    "c = a + b\n",
    "print(c)"
   ]
  },
  {
   "cell_type": "code",
   "execution_count": 76,
   "id": "62802c5a",
   "metadata": {},
   "outputs": [
    {
     "name": "stdout",
     "output_type": "stream",
     "text": [
      "3.0\n",
      "<class 'float'>\n"
     ]
    }
   ],
   "source": [
    "my_var = 3.0\n",
    "print(my_var)\n",
    "print(type(my_var)) # show the data type of the variable"
   ]
  },
  {
   "cell_type": "code",
   "execution_count": 7,
   "id": "aadcf465",
   "metadata": {},
   "outputs": [
    {
     "name": "stdout",
     "output_type": "stream",
     "text": [
      "Hello\n",
      "<class 'str'>\n",
      "3.14\n"
     ]
    }
   ],
   "source": [
    "# _my@var = \"Hello\" # invalid variable names @ symbol is not alphanumeric - compile errors\n",
    "# 3myvar = \"Hello\" # cannot start with a number - compile errors\n",
    "my_var = \"Hello\" \n",
    "my_var_2 = 'Hello' # valid variable name must start with a letter or underscore\n",
    "# can contain letters, numbers, and underscores only / no camel case only snake case\n",
    "# cannot contain spaces or special characters\n",
    "print(my_var)\n",
    "print(type(my_var))\n",
    "\n",
    "PI_VALUE = 3.14 # constant variable are written in  uppercase letters\n",
    "print(PI_VALUE)\n",
    "\n"
   ]
  },
  {
   "cell_type": "code",
   "execution_count": null,
   "id": "f990e2aa",
   "metadata": {},
   "outputs": [
    {
     "name": "stdout",
     "output_type": "stream",
     "text": [
      "Doe\n",
      "20.5\n",
      "John\n",
      "John\n",
      "Hello\n",
      "World\n"
     ]
    }
   ],
   "source": [
    "newvariable = \"John\"\n",
    "new_variable = \"John\" \n",
    "_new_variable = \"John\" \n",
    "newVariable = \"John\" # camel case is not a valid variable naming convention in Python\n",
    "NEW_VARIABLE = \"John\" # constant variables are usually written in uppercase letters\n",
    "newvariable2 = \"John\" # valid variable names can contain numbers but cannot start with a numberz\n",
    "# 2newvariable = \"Python\" # invalid variable names cannot start with a number - compile errors\n",
    "# new-variable = \"Python\" # invalid variable names cannot contain hyphens - compile errors\n",
    "# new variable = \"Python\" # invalid variable names cannot contain spaces - compile errors\n",
    "print(new_variable)\n",
    "print(newVariable)\n",
    "print(_new_variable)\n",
    "print(newvariable)\n",
    "print(NEW_VARIABLE)\n",
    "print(newvariable2)"
   ]
  },
  {
   "cell_type": "code",
   "execution_count": null,
   "id": "dcd1e884",
   "metadata": {},
   "outputs": [
    {
     "name": "stdout",
     "output_type": "stream",
     "text": [
      "(10+12j)\n",
      "<class 'complex'>\n",
      "4958000000.0\n",
      "<class 'float'>\n"
     ]
    }
   ],
   "source": [
    "#--------------------COMPLEX NUMBERS----------------------------------\n",
    "my_var = 10 + 12j\n",
    "print(my_var)\n",
    "print(type(my_var))\n",
    "\n",
    "#--------------------SCIENTIFIC NOTATION----------------------------------\n",
    "my_num = 4.958e9  # scientific notation for 4.958 x 10^9\n",
    "print(my_num)\n",
    "print(type(my_num))"
   ]
  },
  {
   "cell_type": "code",
   "execution_count": null,
   "id": "5305359d",
   "metadata": {},
   "outputs": [
    {
     "name": "stdout",
     "output_type": "stream",
     "text": [
      "10.0\n",
      "<class 'float'>\n",
      "9\n",
      "<class 'int'>\n"
     ]
    }
   ],
   "source": [
    "#--------------------TYPE CASTING----------------------------------\n",
    "\n",
    "a = 10     # int\n",
    "b = float(a) # convert to float / type casting\n",
    "print(b)\n",
    "print(type(b))\n",
    "\n",
    "x = 9.8    # float\n",
    "y = int(x)   # convert to int / type casting    \n",
    "print(y)\n",
    "print(type(y))\n"
   ]
  },
  {
   "cell_type": "code",
   "execution_count": null,
   "id": "ad0de3f5",
   "metadata": {},
   "outputs": [],
   "source": [
    "# SEE COLLECTIONS FOLDER FROM HERE ONWARDS"
   ]
  }
 ],
 "metadata": {
  "kernelspec": {
   "display_name": "Python 3",
   "language": "python",
   "name": "python3"
  },
  "language_info": {
   "codemirror_mode": {
    "name": "ipython",
    "version": 3
   },
   "file_extension": ".py",
   "mimetype": "text/x-python",
   "name": "python",
   "nbconvert_exporter": "python",
   "pygments_lexer": "ipython3",
   "version": "3.13.7"
  }
 },
 "nbformat": 4,
 "nbformat_minor": 5
}
