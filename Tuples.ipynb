{
 "cells": [
  {
   "cell_type": "code",
   "execution_count": null,
   "id": "4b889a41",
   "metadata": {},
   "outputs": [
    {
     "name": "stdout",
     "output_type": "stream",
     "text": [
      "('tennis', 'cricket', 'football')\n",
      "<class 'tuple'>\n",
      "cricket\n"
     ]
    }
   ],
   "source": [
    "#--------------------------------------Tuples----------------------------------------------------------\n",
    "\n",
    "sports = (\"tennis\",\"cricket\",\"football\")\n",
    "print(sports)\n",
    "print(type(sports))\n",
    "print(sports[1]) #can acces items using index , tuples are ordered"
   ]
  },
  {
   "cell_type": "code",
   "execution_count": null,
   "id": "3c71f545",
   "metadata": {},
   "outputs": [
    {
     "ename": "TypeError",
     "evalue": "'tuple' object does not support item assignment",
     "output_type": "error",
     "traceback": [
      "\u001b[31m---------------------------------------------------------------------------\u001b[39m",
      "\u001b[31mTypeError\u001b[39m                                 Traceback (most recent call last)",
      "\u001b[36mCell\u001b[39m\u001b[36m \u001b[39m\u001b[32mIn[2]\u001b[39m\u001b[32m, line 1\u001b[39m\n\u001b[32m----> \u001b[39m\u001b[32m1\u001b[39m \u001b[43msports\u001b[49m\u001b[43m[\u001b[49m\u001b[32;43m1\u001b[39;49m\u001b[43m]\u001b[49m = \u001b[33m\"\u001b[39m\u001b[33mbaseball\u001b[39m\u001b[33m\"\u001b[39m\n",
      "\u001b[31mTypeError\u001b[39m: 'tuple' object does not support item assignment"
     ]
    }
   ],
   "source": [
    "sports = (\"tennis\",\"cricket\",\"football\")\n",
    "sports[1] = \"baseball\" \n",
    "\n",
    "#can not update as tuples are unchangeable and immutable (can not do atleast one operation from add, reomve or update)\n"
   ]
  },
  {
   "cell_type": "code",
   "execution_count": 7,
   "id": "80dbbe7d",
   "metadata": {},
   "outputs": [
    {
     "name": "stdout",
     "output_type": "stream",
     "text": [
      "['tennis', 'cricket', 'football'] <class 'list'>\n",
      "('tennis', 'cricket', 'football')\n",
      "<class 'tuple'>\n"
     ]
    }
   ],
   "source": [
    "sports = (\"tennis\",\"cricket\",\"football\")\n",
    "\n",
    "# if we have to change the data we can convert it to a list and do\n",
    "x = list(sports)\n",
    "print(x,type(x))\n",
    "sports = tuple(x)\n",
    "print(sports)\n",
    "print(type(sports))\n",
    "\n"
   ]
  },
  {
   "cell_type": "code",
   "execution_count": null,
   "id": "9f991efc",
   "metadata": {},
   "outputs": [
    {
     "name": "stdout",
     "output_type": "stream",
     "text": [
      "('tennis', 'cricket', 'football', 'cricket')\n"
     ]
    }
   ],
   "source": [
    "sports = (\"tennis\",\"cricket\",\"football\",\"cricket\")\n",
    "print(sports) # Tuple allow duplicates \n"
   ]
  },
  {
   "cell_type": "code",
   "execution_count": null,
   "id": "c4034cf3",
   "metadata": {},
   "outputs": [
    {
     "name": "stdout",
     "output_type": "stream",
     "text": [
      "('tennis',)\n",
      "<class 'tuple'>\n"
     ]
    }
   ],
   "source": [
    "sports = (\"tennis\",) # if one data is available add a comma unless interpreter detect it has a string \n",
    "print(sports)\n",
    "print(type(sports))\n"
   ]
  },
  {
   "cell_type": "code",
   "execution_count": null,
   "id": "ee653ce8",
   "metadata": {},
   "outputs": [],
   "source": [
    "# can use range of indexes\n",
    "# support negative indexing"
   ]
  },
  {
   "cell_type": "code",
   "execution_count": 10,
   "id": "28b5aa96",
   "metadata": {},
   "outputs": [
    {
     "name": "stdout",
     "output_type": "stream",
     "text": [
      "True\n",
      "False\n"
     ]
    }
   ],
   "source": [
    "#------------------NESTED TUPLES----------------------------\n",
    "nested_tuples = ((1,2,3,4),(\"a\",\"b\",\"c\"),(True,False))\n",
    "print(nested_tuples[2][0])\n",
    "print(nested_tuples[2][1])"
   ]
  }
 ],
 "metadata": {
  "kernelspec": {
   "display_name": "Python 3",
   "language": "python",
   "name": "python3"
  },
  "language_info": {
   "codemirror_mode": {
    "name": "ipython",
    "version": 3
   },
   "file_extension": ".py",
   "mimetype": "text/x-python",
   "name": "python",
   "nbconvert_exporter": "python",
   "pygments_lexer": "ipython3",
   "version": "3.13.7"
  }
 },
 "nbformat": 4,
 "nbformat_minor": 5
}
