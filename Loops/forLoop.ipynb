{
 "cells": [
  {
   "cell_type": "code",
   "execution_count": 1,
   "id": "f749f71e",
   "metadata": {},
   "outputs": [
    {
     "name": "stdout",
     "output_type": "stream",
     "text": [
      "3\n",
      "6\n",
      "8\n",
      "4\n",
      "2\n",
      "outside the loop\n"
     ]
    }
   ],
   "source": [
    "nums = [3,6,8,4,2]\n",
    "\n",
    "for num in nums:\n",
    "    print(num)\n",
    "print(\"outside the loop\")"
   ]
  },
  {
   "cell_type": "code",
   "execution_count": 10,
   "id": "b3934890",
   "metadata": {},
   "outputs": [
    {
     "name": "stdout",
     "output_type": "stream",
     "text": [
      "[10, 4, 8, 12, 18]\n"
     ]
    }
   ],
   "source": [
    "nums = [10,4,8,5,12,18]\n",
    "\n",
    "for num in nums:\n",
    "    if num % 2 != 0:\n",
    "        odd_number = num\n",
    "        nums.remove(odd_number)\n",
    "print(nums)\n",
    "        "
   ]
  },
  {
   "cell_type": "code",
   "execution_count": null,
   "id": "00bea2d5",
   "metadata": {},
   "outputs": [
    {
     "name": "stdout",
     "output_type": "stream",
     "text": [
      "7\n",
      "14\n",
      "21\n",
      "28\n",
      "35\n",
      "42\n",
      "49\n",
      "56\n",
      "63\n",
      "70\n",
      "77\n",
      "84\n",
      "91\n",
      "98\n",
      "7\n",
      "14\n",
      "21\n",
      "28\n",
      "35\n",
      "42\n",
      "49\n",
      "56\n",
      "63\n",
      "70\n",
      "77\n",
      "84\n",
      "91\n",
      "98\n"
     ]
    }
   ],
   "source": [
    "#---------------if condition slow the program--------------------\n",
    "for i in range(1,100):\n",
    "    if i % 7 == 0:\n",
    "        print(i)\n",
    "\n",
    "for i in range(7,100,7):\n",
    "    print(i)"
   ]
  },
  {
   "cell_type": "code",
   "execution_count": null,
   "id": "33f52d7b",
   "metadata": {},
   "outputs": [
    {
     "name": "stdout",
     "output_type": "stream",
     "text": [
      "2 is the factorial number of 2\n"
     ]
    }
   ],
   "source": [
    "#-------------------------Find factorial of a given number--------------------------------\n",
    "nums = int(input(\"Enter a number\"))\n",
    "fac = 1\n",
    "if nums > 0:\n",
    "    for i in range(1,nums+1):\n",
    "        fac = fac * i\n",
    "    print(f\"{fac} is the factorial number of {nums}\")\n",
    "else:\n",
    "    print(f\"{nums} is a Invalid number\")\n",
    "\n"
   ]
  },
  {
   "cell_type": "code",
   "execution_count": null,
   "id": "1371cc0f",
   "metadata": {},
   "outputs": [
    {
     "name": "stdout",
     "output_type": "stream",
     "text": [
      "2\n",
      "7\n",
      "5\n",
      "3\n"
     ]
    }
   ],
   "source": [
    "#-----------------------KEYWORDS-/Break/--------------------\n",
    "numers = [2,7,5,3,9,7,7]\n",
    "\n",
    "for num in numers:\n",
    "    if num > 7:\n",
    "        break\n",
    "    print(num)"
   ]
  },
  {
   "cell_type": "code",
   "execution_count": 1,
   "id": "fa21e4f6",
   "metadata": {},
   "outputs": [
    {
     "name": "stdout",
     "output_type": "stream",
     "text": [
      "9\n"
     ]
    }
   ],
   "source": [
    "total = 0\n",
    "for i in range(10):\n",
    "    number = int(input(\"Enter a number\"))\n",
    "    if number == 0:\n",
    "        break\n",
    "    total += number\n",
    "print(total)"
   ]
  }
 ],
 "metadata": {
  "kernelspec": {
   "display_name": "Python 3",
   "language": "python",
   "name": "python3"
  },
  "language_info": {
   "codemirror_mode": {
    "name": "ipython",
    "version": 3
   },
   "file_extension": ".py",
   "mimetype": "text/x-python",
   "name": "python",
   "nbconvert_exporter": "python",
   "pygments_lexer": "ipython3",
   "version": "3.13.7"
  }
 },
 "nbformat": 4,
 "nbformat_minor": 5
}
