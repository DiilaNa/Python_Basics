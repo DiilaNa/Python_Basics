{
 "cells": [
  {
   "cell_type": "code",
   "execution_count": 1,
   "id": "6087c9ba",
   "metadata": {},
   "outputs": [
    {
     "name": "stdout",
     "output_type": "stream",
     "text": [
      "[2, 2, 3, 4, 5, 'dog', True]\n",
      "<class 'list'>\n",
      "[2, 2, 10, 4, 5, 'dog', True]\n",
      "1922591664192\n",
      "[3, 4, 5, 6]\n",
      "[1, 2, 3, 4]\n",
      "[6, 7, 8, 9, 10]\n",
      "[1, 3, 5, 7, 9]\n",
      "10\n"
     ]
    }
   ],
   "source": [
    "#--------------------LISTS----------------------------------\n",
    "my_list = [2, 2, 3, 4, 5,\"dog\",True] # list can contain different data types , duplicates allowed\n",
    "print(my_list)\n",
    "print(type(my_list))\n",
    "\n",
    "my_list[2] = 10 # modify the third element of the list\n",
    "print(my_list)\n",
    "print(id(my_list)) # print the memory address of the list\n",
    "\n",
    "my_list =  [1,2,3,4,5,6,7,8,9,10]\n",
    "print(my_list[2:6]) # slicing the list from index 2 to index 5\n",
    "print(my_list[:4]) # slicing the list from the beginning to index 3\n",
    "print(my_list[5:]) # slicing the list from index 5 to the end\n",
    "print(my_list[::2]) # slicing the list with a step of 2\n",
    "print(my_list[-1]) # Negative indexing - last element"
   ]
  },
  {
   "cell_type": "code",
   "execution_count": 2,
   "id": "c261de04",
   "metadata": {},
   "outputs": [
    {
     "name": "stdout",
     "output_type": "stream",
     "text": [
      "[10, 8, 9, 15, 20, 18, 26]\n",
      "[10, 8, 90, 60, 80, 18, 26]\n",
      "[10, 8, 68, 90, 60, 80, 18, 26]\n",
      "[10, 8, 68, 90, 60, 80, 18, 26, 100]\n"
     ]
    }
   ],
   "source": [
    "my_lists = [10,8,9,15,20,18,26]\n",
    "print(my_lists)\n",
    "my_lists[2:5] = [90,60,80] # modify elements from index 2 to index 3\n",
    "print(my_lists)\n",
    "\n",
    "#-------------------INSERT----------------------------------\n",
    "my_lists.insert(2, 68) # insert 68 at index 2\n",
    "print(my_lists)\n",
    "\n",
    "#-------------------APPEND----------------------------------\n",
    "my_lists.append(100) # append 100 at the end of the list\n",
    "print(my_lists)"
   ]
  },
  {
   "cell_type": "code",
   "execution_count": 3,
   "id": "1c1eeca7",
   "metadata": {},
   "outputs": [
    {
     "name": "stdout",
     "output_type": "stream",
     "text": [
      "['cat', 'rabbit', 'fish', 'bird', 'dog']\n",
      "['cat', 'dog', 'fish', 'bird', 'dog']\n",
      "rabbit\n",
      "['cat', 'rabbit', 'fish', 'bird', 'dog']\n",
      "['Parrot', 'dog', 'rabbit', 'fish', 'bird', 'dog']\n",
      "0\n"
     ]
    }
   ],
   "source": [
    "#-------------------REMOVE----------------------------------\n",
    "my_list = [\"cat\", \"dog\", \"rabbit\", \"fish\", \"bird\", \"dog\"] #remove the value by name not by index\n",
    "my_list.remove(\"dog\") # remove the first occurrence of \"dog\"\n",
    "print(my_list)\n",
    "\n",
    "#-------------------POP----------------------------------\n",
    "my_list = [\"cat\", \"dog\", \"rabbit\", \"fish\", \"bird\", \"dog\"]\n",
    "my_var =  my_list.pop(2) # remove the element at index 2\n",
    "print(my_list)\n",
    "print(my_var) # print the removed element\n",
    "\n",
    "#-------------------DEL----------------------------------\n",
    "my_list = [\"cat\", \"dog\", \"rabbit\", \"fish\", \"bird\", \"dog\"]\n",
    "del my_list[1] # delete the element at index 1\n",
    "# del my_list # delete the entire list / Not a method\n",
    "print(my_list)\n",
    "\n",
    "#-------------------CLEAR----------------------------------\n",
    "my_list = [\"Parrot\", \"dog\", \"rabbit\", \"fish\", \"bird\", \"dog\"]\n",
    "print(my_list)\n",
    "my_list.clear() # clear the entire list\n",
    "print(len(my_list)) # print the length of the list"
   ]
  },
  {
   "cell_type": "code",
   "execution_count": 4,
   "id": "01da96f8",
   "metadata": {},
   "outputs": [
    {
     "name": "stdout",
     "output_type": "stream",
     "text": [
      "['bird', 'dog', 'dog', 'fish', 'parrot', 'rabbit']\n",
      "[5, 4, 3, 2, 1]\n",
      "[5, 4, 3, 2, 1]\n"
     ]
    }
   ],
   "source": [
    "#--------------------SORT----------------------------------\n",
    "my_list = [\"parrot\", \"dog\", \"rabbit\", \"fish\", \"bird\", \"dog\"]\n",
    "my_list.sort() # sort the list in ascending order\n",
    "print(my_list)\n",
    "\n",
    "#descending order\n",
    "my_list = [1, 2, 3, 4, 5] # list\n",
    "my_list.sort(reverse=True) # sort the list in descending order\n",
    "print(my_list)\n",
    "\n",
    "#--------------------REVERSE----------------------------------\n",
    "my_list = [1, 2, 3, 4, 5] # list\n",
    "my_list.reverse() # reverse the list\n",
    "print(my_list)"
   ]
  },
  {
   "cell_type": "code",
   "execution_count": 5,
   "id": "e99261dd",
   "metadata": {},
   "outputs": [
    {
     "name": "stdout",
     "output_type": "stream",
     "text": [
      "['parrot', 'dog', 'rabbit', 'fish', 'bird', 'dog']\n",
      "['parrot', 'dog', 'rabbit', 'fish', 'bird', 'dog']\n",
      "['parrot', 'dog', 'rabbit', 'fish', 'bird', 'dog', 'cat']\n",
      "[1, 2, 3, 'Hi', 'Hello']\n",
      "[1, 2, 3, 4, 5, 20, 10, 50]\n"
     ]
    }
   ],
   "source": [
    "#--------------------COPY OF A LIST----------------------------------\n",
    "my_list = [\"parrot\", \"dog\", \"rabbit\", \"fish\", \"bird\",\"dog\"]\n",
    "my_list2 = my_list.copy() # copy the list to a new list\n",
    "print(my_list2)\n",
    "print(my_list)\n",
    "my_list.append(\"cat\")\n",
    "print(my_list)\n",
    "\n",
    "#--------------------Join Two Lists----------------------------------\n",
    "my_list_1 = [1, 2, 3]\n",
    "my_list_2 = [\"Hi\",\"Hello\"]\n",
    "my_list3 = my_list_1 + my_list_2\n",
    "print(my_list3)\n",
    "\n",
    "#-----------------------EXTEND-----------------------------------------\n",
    "my_list_one = [1,2,3,4,5]\n",
    "my_list_two = [20,10,50]\n",
    "my_list_one.extend(my_list_two)\n",
    "print(my_list_one)"
   ]
  }
 ],
 "metadata": {
  "kernelspec": {
   "display_name": "Python 3",
   "language": "python",
   "name": "python3"
  },
  "language_info": {
   "codemirror_mode": {
    "name": "ipython",
    "version": 3
   },
   "file_extension": ".py",
   "mimetype": "text/x-python",
   "name": "python",
   "nbconvert_exporter": "python",
   "pygments_lexer": "ipython3",
   "version": "3.13.7"
  }
 },
 "nbformat": 4,
 "nbformat_minor": 5
}
