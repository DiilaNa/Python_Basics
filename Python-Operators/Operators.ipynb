{
 "cells": [
  {
   "cell_type": "code",
   "execution_count": null,
   "id": "8aa807a8",
   "metadata": {},
   "outputs": [
    {
     "name": "stdout",
     "output_type": "stream",
     "text": [
      "85\n",
      "45\n",
      "1300\n",
      "3.25\n",
      "5\n",
      "1812454583633499091987705230712890625\n",
      "3\n"
     ]
    }
   ],
   "source": [
    "# --------------- Arithmetic Operators in Python ---------------\n",
    "\n",
    "x = 65\n",
    "y = 20\n",
    "\n",
    "print(x + y) # Addition\n",
    "print(x - y) # Subtraction\n",
    "print(x * y) # Multiplication\n",
    "print(x / y) # Division\n",
    "print(x % y) # Modulus / this will give the Remainder \n",
    "print(x ** y) # Exponentiation\n",
    "print(x // y) # Floor Division/ this will give the full intiger without the decimal part \n",
    "\n"
   ]
  },
  {
   "cell_type": "code",
   "execution_count": 5,
   "id": "5e0a5da9",
   "metadata": {},
   "outputs": [
    {
     "name": "stdout",
     "output_type": "stream",
     "text": [
      "10\n",
      "7\n",
      "20\n",
      "3.5\n"
     ]
    }
   ],
   "source": [
    "#----------------------Assignment Operators in Python ----------------------\n",
    "\n",
    "x = 5\n",
    "y = 10\n",
    "\n",
    "x += 5  # Equivalent to x = x + 5\n",
    "print(x)\n",
    "\n",
    "y -= 3  # Equivalent to y = y - 3\n",
    "print(y)\n",
    "\n",
    "x *= 2  # Equivalent to x = x * 2\n",
    "print(x)\n",
    "\n",
    "y /= 2  # Equivalent to y = y / 2\n",
    "print(y)\n",
    "\n",
    "# can add more assignment operators like %=, //=, **=, etc."
   ]
  },
  {
   "cell_type": "code",
   "execution_count": null,
   "id": "237a6b02",
   "metadata": {},
   "outputs": [],
   "source": [
    "#---------------------- Comparison Operators in Python ----------------------\n",
    "a = 10\n",
    "b = 20\n",
    "\n",
    "print(a == b)  # Equal to\n",
    "print(a != b)  # Not equal to   \n",
    "print(a > b)   # Greater than\n",
    "print(a < b)   # Less than\n",
    "print(a >= b)  # Greater than or equal to\n",
    "print(a <= b)  # Less than or equal to\n"
   ]
  },
  {
   "cell_type": "code",
   "execution_count": null,
   "id": "93e342ca",
   "metadata": {},
   "outputs": [],
   "source": [
    "#----------------------- Logical Operators in Python -----------------------\n",
    "x = True\n",
    "y = False\n",
    "\n",
    "print(x and y)  # Logical AND\n",
    "print(x or y)   # Logical OR\n",
    "print(not x)    # Logical NOT\n"
   ]
  },
  {
   "cell_type": "code",
   "execution_count": null,
   "id": "398a5d4a",
   "metadata": {},
   "outputs": [
    {
     "name": "stdout",
     "output_type": "stream",
     "text": [
      "Contains duplicates: True\n",
      "9\n",
      "8\n"
     ]
    }
   ],
   "source": [
    "product_ids = (101, 102, 103, 104,105,106,107,103,109) \n",
    "has_duplicate = len(product_ids) != len(set(product_ids))\n",
    "print(\"Contains duplicates:\", has_duplicate)\n",
    "print(len(product_ids))\n",
    "print(len(set(product_ids)))\n"
   ]
  },
  {
   "cell_type": "code",
   "execution_count": 12,
   "id": "9987cac1",
   "metadata": {},
   "outputs": [
    {
     "name": "stdout",
     "output_type": "stream",
     "text": [
      "False\n",
      "True\n",
      "False\n"
     ]
    }
   ],
   "source": [
    "#---------------------- Logical Operators in Python ----------------------\n",
    "x = True\n",
    "y = False\n",
    "\n",
    "print(x and y)  # Logical AND\n",
    "print(x or y)   # Logical OR\n",
    "print(not x)    # Logical NOT\n",
    "\n"
   ]
  },
  {
   "cell_type": "code",
   "execution_count": null,
   "id": "f135f2b5",
   "metadata": {},
   "outputs": [
    {
     "name": "stdout",
     "output_type": "stream",
     "text": [
      "True\n",
      "False\n",
      "True\n",
      "False\n"
     ]
    }
   ],
   "source": [
    "# --------------------------- Identity Operators in Python ---------------------------\n",
    "a = 256\n",
    "b = 256\n",
    "c = 10\n",
    "\n",
    "print(a is b)  # True, In python (-5)- (256) numbers (small integersf ) are pre created inside a pool so both refer to the same object in memory\n",
    "print(a is c)  # False, because they refer to different objects\n",
    "print(a is not c)  # True, because they refer to different objects\n",
    "print(a is not b)  # False, because both refer to the same object"
   ]
  },
  {
   "cell_type": "code",
   "execution_count": null,
   "id": "362d31d8",
   "metadata": {},
   "outputs": [
    {
     "name": "stdout",
     "output_type": "stream",
     "text": [
      "True\n",
      "False\n",
      "True\n",
      "False\n"
     ]
    }
   ],
   "source": [
    "#---------------------- Membership Operators in Python ----------------------\n",
    "Libraries = ['NumPy', 'Pandas', 'Matplotlib', 'Scikit-learn']\n",
    "print('NumPy' in Libraries)  # True\n",
    "print('TensorFlow' in Libraries)  # False\n",
    "print('TensorFlow' not in Libraries)  # True\n",
    "print('Pandas' not in Libraries)  # False"
   ]
  },
  {
   "cell_type": "code",
   "execution_count": 23,
   "id": "da5510e2",
   "metadata": {},
   "outputs": [
    {
     "name": "stdout",
     "output_type": "stream",
     "text": [
      "1\n",
      "7\n",
      "6\n",
      "-6\n",
      "10\n",
      "2\n"
     ]
    }
   ],
   "source": [
    "#----------------------- Bitwise Operators in Python -----------------------\n",
    "a = 5  # In binary: 0101\n",
    "b = 3  # In binary: 0011\n",
    "print(a & b)  # Bitwise AND: 0001 (1 in decimal)\n",
    "print(a | b)  # Bitwise OR: 0111 (7 in decimal)\n",
    "print(a ^ b)  # Bitwise XOR: 0110 (6 in decimal)\n",
    "print(~a)     # Bitwise NOT: 1010 (-6 in decimal, two's complement)\n",
    "print(a << 1) # Left Shift: 1010 (10 in decimal)\n",
    "print(a >> 1) # Right Shift: 0010 (2 in decimal)"
   ]
  },
  {
   "cell_type": "code",
   "execution_count": 25,
   "id": "98e2d1df",
   "metadata": {},
   "outputs": [
    {
     "name": "stdout",
     "output_type": "stream",
     "text": [
      "True\n"
     ]
    }
   ],
   "source": [
    "result = 5 + 3 * 2 ** 2 > 15 and 10-2 * 3 == 4 or not 10 % 5 == 0\n",
    "print(result)  # Output: False"
   ]
  }
 ],
 "metadata": {
  "kernelspec": {
   "display_name": "Python 3",
   "language": "python",
   "name": "python3"
  },
  "language_info": {
   "codemirror_mode": {
    "name": "ipython",
    "version": 3
   },
   "file_extension": ".py",
   "mimetype": "text/x-python",
   "name": "python",
   "nbconvert_exporter": "python",
   "pygments_lexer": "ipython3",
   "version": "3.13.7"
  }
 },
 "nbformat": 4,
 "nbformat_minor": 5
}
