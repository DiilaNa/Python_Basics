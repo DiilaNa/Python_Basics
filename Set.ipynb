{
 "cells": [
  {
   "cell_type": "code",
   "execution_count": null,
   "id": "63f08ff4",
   "metadata": {},
   "outputs": [
    {
     "name": "stdout",
     "output_type": "stream",
     "text": [
      "{'cricket', 'Football', 'tennis'}\n",
      "<class 'set'>\n"
     ]
    },
    {
     "ename": "TypeError",
     "evalue": "'set' object is not subscriptable",
     "output_type": "error",
     "traceback": [
      "\u001b[31m---------------------------------------------------------------------------\u001b[39m",
      "\u001b[31mTypeError\u001b[39m                                 Traceback (most recent call last)",
      "\u001b[36mCell\u001b[39m\u001b[36m \u001b[39m\u001b[32mIn[2]\u001b[39m\u001b[32m, line 10\u001b[39m\n\u001b[32m      6\u001b[39m \u001b[38;5;28mprint\u001b[39m(\u001b[38;5;28mtype\u001b[39m(sports))\n\u001b[32m      8\u001b[39m \u001b[38;5;66;03m# can not access from index\u001b[39;00m\n\u001b[32m---> \u001b[39m\u001b[32m10\u001b[39m \u001b[38;5;28mprint\u001b[39m(\u001b[43msports\u001b[49m\u001b[43m[\u001b[49m\u001b[32;43m1\u001b[39;49m\u001b[43m]\u001b[49m)\n",
      "\u001b[31mTypeError\u001b[39m: 'set' object is not subscriptable"
     ]
    }
   ],
   "source": [
    "#-------------------------------Sets--------------------------------------\n",
    "# sets are unordered / see the print result\n",
    "sports = {\"tennis\",\"cricket\",\"Football\"}\n",
    "print(sports)\n",
    "print(type(sports))\n",
    "\n",
    "# can not access from index\n",
    "\n",
    "print(sports[1])"
   ]
  },
  {
   "cell_type": "code",
   "execution_count": 4,
   "id": "bcad84ec",
   "metadata": {},
   "outputs": [
    {
     "name": "stdout",
     "output_type": "stream",
     "text": [
      "{'cricket', 'Football', 'tennis'}\n",
      "<class 'set'>\n"
     ]
    }
   ],
   "source": [
    "# Sets Do not Allow Dupplicates / no erros shown but does not print them\n",
    "\n",
    "sports = {\"tennis\",\"cricket\",\"Football\",\"tennis\"}\n",
    "print(sports)\n",
    "print(type(sports))"
   ]
  },
  {
   "cell_type": "code",
   "execution_count": null,
   "id": "3b9ee597",
   "metadata": {},
   "outputs": [
    {
     "name": "stdout",
     "output_type": "stream",
     "text": [
      "{'hockey', 'rugby', 'cricket', 'Football', 'tennis'}\n"
     ]
    }
   ],
   "source": [
    "# adding value to a set / can not update existing values\n",
    "sports = {\"tennis\",\"cricket\",\"Football\",\"tennis\"}\n",
    "sports.update([\"hockey\"],[\"rugby\"])\n",
    "print(sports)"
   ]
  }
 ],
 "metadata": {
  "kernelspec": {
   "display_name": "Python 3",
   "language": "python",
   "name": "python3"
  },
  "language_info": {
   "codemirror_mode": {
    "name": "ipython",
    "version": 3
   },
   "file_extension": ".py",
   "mimetype": "text/x-python",
   "name": "python",
   "nbconvert_exporter": "python",
   "pygments_lexer": "ipython3",
   "version": "3.13.7"
  }
 },
 "nbformat": 4,
 "nbformat_minor": 5
}
