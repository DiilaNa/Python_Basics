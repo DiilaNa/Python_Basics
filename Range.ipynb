{
 "cells": [
  {
   "cell_type": "code",
   "execution_count": null,
   "id": "8bdc0056",
   "metadata": {},
   "outputs": [
    {
     "name": "stdout",
     "output_type": "stream",
     "text": [
      "range(3, 24, 4)\n",
      "<class 'range'>\n",
      "3\n",
      "7\n",
      "11\n",
      "15\n"
     ]
    }
   ],
   "source": [
    "rane_1 = range(3,24,4)\n",
    "# 3 - start\n",
    "# 24 - end\n",
    "# 4 - step \n",
    "print(rane_1)\n",
    "print(type(rane_1))\n",
    "\n",
    "print(rane_1[0])\n",
    "print(rane_1[1])\n",
    "print(rane_1[2])\n",
    "print(rane_1[3])"
   ]
  },
  {
   "cell_type": "code",
   "execution_count": null,
   "id": "8adae504",
   "metadata": {},
   "outputs": [
    {
     "name": "stdout",
     "output_type": "stream",
     "text": [
      "0\n",
      "1\n"
     ]
    }
   ],
   "source": [
    "r = range(5) # 5 here means end , start and step is skipped\n",
    "print(r[0]) # 0,1,2,3,4,5  \n",
    "\n",
    "r2 = range(1,6) # start and end only , step is skipped\n",
    "print(r2[0])"
   ]
  }
 ],
 "metadata": {
  "kernelspec": {
   "display_name": "Python 3",
   "language": "python",
   "name": "python3"
  },
  "language_info": {
   "codemirror_mode": {
    "name": "ipython",
    "version": 3
   },
   "file_extension": ".py",
   "mimetype": "text/x-python",
   "name": "python",
   "nbconvert_exporter": "python",
   "pygments_lexer": "ipython3",
   "version": "3.13.7"
  }
 },
 "nbformat": 4,
 "nbformat_minor": 5
}
