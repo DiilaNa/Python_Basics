{
 "cells": [
  {
   "cell_type": "code",
   "execution_count": null,
   "id": "d36647a3",
   "metadata": {},
   "outputs": [
    {
     "name": "stdout",
     "output_type": "stream",
     "text": [
      "{'name': 'sugar', 'weight': '1KG', 'price': 120.0}\n",
      "<class 'dict'>\n",
      "sugar\n"
     ]
    }
   ],
   "source": [
    "#--------------------------Dictoinaries----------------------------------\n",
    "this_dict = {\n",
    "\n",
    "    \"name\" : \"sugar\",\n",
    "    \"weight\" :\"1KG\",\n",
    "    \"price\" : 120.00\n",
    "}\n",
    "\n",
    "print(this_dict)\n",
    "print(type(this_dict))\n",
    "print(this_dict[\"name\"])"
   ]
  },
  {
   "cell_type": "code",
   "execution_count": null,
   "id": "7e0c46c8",
   "metadata": {},
   "outputs": [
    {
     "name": "stdout",
     "output_type": "stream",
     "text": [
      "{'name': 'sugar', 'weight': '2KG', 'price': 120.0}\n"
     ]
    }
   ],
   "source": [
    "# DICTIONARIES are muteable / can add, update or remove (changeable)\n",
    "\n",
    "# updaing values in a dictionary\n",
    "this_dict[\"weight\"] = \"2KG\"\n",
    "print(this_dict)"
   ]
  },
  {
   "cell_type": "code",
   "execution_count": 11,
   "id": "2d4994d8",
   "metadata": {},
   "outputs": [
    {
     "name": "stdout",
     "output_type": "stream",
     "text": [
      "{'name': 'Alice', 'weight': '40KG', 'age': 22, (1, 3): 'tuple as key'}\n",
      "<class 'dict'>\n",
      "Alice\n"
     ]
    }
   ],
   "source": [
    "this_dict = {\n",
    "\n",
    "    \"name\" : \"Alice\",\n",
    "    \"weight\" :\"40KG\",\n",
    "    \"age\" : 22,\n",
    "    (1,3) : \"tuple as key\"\n",
    "}\n",
    "\n",
    "print(this_dict)\n",
    "print(type(this_dict))\n",
    "# print(this_dict[\"price\"])  # KeyError: 'price' (key does not exist)\n",
    "print(this_dict[\"name\"])\n"
   ]
  },
  {
   "cell_type": "code",
   "execution_count": 10,
   "id": "b97cef70",
   "metadata": {},
   "outputs": [
    {
     "name": "stdout",
     "output_type": "stream",
     "text": [
      "1200\n",
      "{'name': 'Alice', 'weight': '2KG', 'age': 22, (1, 3): 'tuple as key', 'expire_date': '2024-12-31'}\n"
     ]
    }
   ],
   "source": [
    "\n",
    "#--------------------get() method to access values in a dictionary if there is no key----------------\n",
    "print(this_dict.get(\"price\",1200))  # returns 1200 if key does not exist\n",
    "\n",
    "#------------------add a new value and add a new key in one line----------------------\n",
    "this_dict.update({\"weight\": \"2KG\",\"expire_date\": \"2024-12-31\"})\n",
    "print(this_dict)\n",
    "\n"
   ]
  },
  {
   "cell_type": "code",
   "execution_count": 25,
   "id": "9adccf8a",
   "metadata": {},
   "outputs": [
    {
     "name": "stdout",
     "output_type": "stream",
     "text": [
      "{'name': 'John', 'weight': '60KG', 'age': 22, (1, 3): 'tuple as key'}\n",
      "{'weight': '60KG', 'age': 22, (1, 3): 'tuple as key'}\n",
      "{'weight': '60KG', (1, 3): 'tuple as key'}\n",
      "{}\n"
     ]
    }
   ],
   "source": [
    "#------------------Removing items from a dictionary----------------------\n",
    "this_dict = {\n",
    "    \"name\" : \"John\",\n",
    "    \"weight\" :\"60KG\",\n",
    "    \"age\" : 22,\n",
    "    (1,3) : \"tuple as key\"\n",
    "}\n",
    "\n",
    "#-------------POP()--removes the key-value pair with the specified key and returns the value----------------\n",
    "print(this_dict)\n",
    "this_dict.pop(\"name\") \n",
    "print(this_dict)\n",
    "\n",
    "#-------------DEL-- removes the key-value pair with the specified key----------------\n",
    "del this_dict[\"age\"]  \n",
    "print(this_dict)\n",
    "\n",
    "#-------------CLEAR()-removes all items from the dictionary----------------\n",
    "this_dict.clear() \n",
    "print(this_dict)"
   ]
  }
 ],
 "metadata": {
  "kernelspec": {
   "display_name": "Python 3",
   "language": "python",
   "name": "python3"
  },
  "language_info": {
   "codemirror_mode": {
    "name": "ipython",
    "version": 3
   },
   "file_extension": ".py",
   "mimetype": "text/x-python",
   "name": "python",
   "nbconvert_exporter": "python",
   "pygments_lexer": "ipython3",
   "version": "3.13.7"
  }
 },
 "nbformat": 4,
 "nbformat_minor": 5
}
